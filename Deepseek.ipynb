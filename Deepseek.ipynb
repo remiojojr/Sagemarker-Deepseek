{
 "cells": [
  {
   "cell_type": "code",
   "execution_count": 1,
   "id": "851ef1b4-b010-4637-845d-9711d697340c",
   "metadata": {},
   "outputs": [
    {
     "name": "stdout",
     "output_type": "stream",
     "text": [
      "Requirement already satisfied: sagemaker>=2.163.0 in /opt/conda/lib/python3.11/site-packages (2.228.0)\n",
      "Requirement already satisfied: attrs<24,>=23.1.0 in /opt/conda/lib/python3.11/site-packages (from sagemaker>=2.163.0) (23.2.0)\n",
      "Requirement already satisfied: boto3<2.0,>=1.34.142 in /opt/conda/lib/python3.11/site-packages (from sagemaker>=2.163.0) (1.36.3)\n",
      "Requirement already satisfied: cloudpickle==2.2.1 in /opt/conda/lib/python3.11/site-packages (from sagemaker>=2.163.0) (2.2.1)\n",
      "Requirement already satisfied: docker in /opt/conda/lib/python3.11/site-packages (from sagemaker>=2.163.0) (7.1.0)\n",
      "Requirement already satisfied: google-pasta in /opt/conda/lib/python3.11/site-packages (from sagemaker>=2.163.0) (0.2.0)\n",
      "Requirement already satisfied: importlib-metadata<7.0,>=1.4.0 in /opt/conda/lib/python3.11/site-packages (from sagemaker>=2.163.0) (6.10.0)\n",
      "Requirement already satisfied: jsonschema in /opt/conda/lib/python3.11/site-packages (from sagemaker>=2.163.0) (4.23.0)\n",
      "Requirement already satisfied: numpy<2.0,>=1.9.0 in /opt/conda/lib/python3.11/site-packages (from sagemaker>=2.163.0) (1.26.4)\n",
      "Requirement already satisfied: packaging>=20.0 in /opt/conda/lib/python3.11/site-packages (from sagemaker>=2.163.0) (24.2)\n",
      "Requirement already satisfied: pandas in /opt/conda/lib/python3.11/site-packages (from sagemaker>=2.163.0) (2.2.3)\n",
      "Requirement already satisfied: pathos in /opt/conda/lib/python3.11/site-packages (from sagemaker>=2.163.0) (0.3.3)\n",
      "Requirement already satisfied: platformdirs in /opt/conda/lib/python3.11/site-packages (from sagemaker>=2.163.0) (4.3.6)\n",
      "Requirement already satisfied: protobuf<5.0,>=3.12 in /opt/conda/lib/python3.11/site-packages (from sagemaker>=2.163.0) (4.25.3)\n",
      "Requirement already satisfied: psutil in /opt/conda/lib/python3.11/site-packages (from sagemaker>=2.163.0) (5.9.8)\n",
      "Requirement already satisfied: pyyaml~=6.0 in /opt/conda/lib/python3.11/site-packages (from sagemaker>=2.163.0) (6.0.2)\n",
      "Requirement already satisfied: requests in /opt/conda/lib/python3.11/site-packages (from sagemaker>=2.163.0) (2.32.3)\n",
      "Requirement already satisfied: schema in /opt/conda/lib/python3.11/site-packages (from sagemaker>=2.163.0) (0.7.7)\n",
      "Requirement already satisfied: smdebug-rulesconfig==1.0.1 in /opt/conda/lib/python3.11/site-packages (from sagemaker>=2.163.0) (1.0.1)\n",
      "Requirement already satisfied: tblib<4,>=1.7.0 in /opt/conda/lib/python3.11/site-packages (from sagemaker>=2.163.0) (2.0.0)\n",
      "Requirement already satisfied: tqdm in /opt/conda/lib/python3.11/site-packages (from sagemaker>=2.163.0) (4.67.1)\n",
      "Requirement already satisfied: urllib3<3.0.0,>=1.26.8 in /opt/conda/lib/python3.11/site-packages (from sagemaker>=2.163.0) (1.26.19)\n",
      "Requirement already satisfied: botocore<1.37.0,>=1.36.3 in /opt/conda/lib/python3.11/site-packages (from boto3<2.0,>=1.34.142->sagemaker>=2.163.0) (1.36.3)\n",
      "Requirement already satisfied: jmespath<2.0.0,>=0.7.1 in /opt/conda/lib/python3.11/site-packages (from boto3<2.0,>=1.34.142->sagemaker>=2.163.0) (1.0.1)\n",
      "Requirement already satisfied: s3transfer<0.12.0,>=0.11.0 in /opt/conda/lib/python3.11/site-packages (from boto3<2.0,>=1.34.142->sagemaker>=2.163.0) (0.11.2)\n",
      "Requirement already satisfied: zipp>=0.5 in /opt/conda/lib/python3.11/site-packages (from importlib-metadata<7.0,>=1.4.0->sagemaker>=2.163.0) (3.21.0)\n",
      "Requirement already satisfied: charset_normalizer<4,>=2 in /opt/conda/lib/python3.11/site-packages (from requests->sagemaker>=2.163.0) (3.4.1)\n",
      "Requirement already satisfied: idna<4,>=2.5 in /opt/conda/lib/python3.11/site-packages (from requests->sagemaker>=2.163.0) (3.10)\n",
      "Requirement already satisfied: certifi>=2017.4.17 in /opt/conda/lib/python3.11/site-packages (from requests->sagemaker>=2.163.0) (2024.12.14)\n",
      "Requirement already satisfied: six in /opt/conda/lib/python3.11/site-packages (from google-pasta->sagemaker>=2.163.0) (1.17.0)\n",
      "Requirement already satisfied: jsonschema-specifications>=2023.03.6 in /opt/conda/lib/python3.11/site-packages (from jsonschema->sagemaker>=2.163.0) (2024.10.1)\n",
      "Requirement already satisfied: referencing>=0.28.4 in /opt/conda/lib/python3.11/site-packages (from jsonschema->sagemaker>=2.163.0) (0.36.2)\n",
      "Requirement already satisfied: rpds-py>=0.7.1 in /opt/conda/lib/python3.11/site-packages (from jsonschema->sagemaker>=2.163.0) (0.22.3)\n",
      "Requirement already satisfied: python-dateutil>=2.8.2 in /opt/conda/lib/python3.11/site-packages (from pandas->sagemaker>=2.163.0) (2.9.0.post0)\n",
      "Requirement already satisfied: pytz>=2020.1 in /opt/conda/lib/python3.11/site-packages (from pandas->sagemaker>=2.163.0) (2024.1)\n",
      "Requirement already satisfied: tzdata>=2022.7 in /opt/conda/lib/python3.11/site-packages (from pandas->sagemaker>=2.163.0) (2025.1)\n",
      "Requirement already satisfied: ppft>=1.7.6.9 in /opt/conda/lib/python3.11/site-packages (from pathos->sagemaker>=2.163.0) (1.7.6.9)\n",
      "Requirement already satisfied: dill>=0.3.9 in /opt/conda/lib/python3.11/site-packages (from pathos->sagemaker>=2.163.0) (0.3.9)\n",
      "Requirement already satisfied: pox>=0.3.5 in /opt/conda/lib/python3.11/site-packages (from pathos->sagemaker>=2.163.0) (0.3.5)\n",
      "Requirement already satisfied: multiprocess>=0.70.17 in /opt/conda/lib/python3.11/site-packages (from pathos->sagemaker>=2.163.0) (0.70.17)\n",
      "Requirement already satisfied: typing-extensions>=4.4.0 in /opt/conda/lib/python3.11/site-packages (from referencing>=0.28.4->jsonschema->sagemaker>=2.163.0) (4.12.2)\n",
      "Note: you may need to restart the kernel to use updated packages.\n"
     ]
    }
   ],
   "source": [
    "%pip install \"sagemaker>=2.163.0\""
   ]
  },
  {
   "cell_type": "code",
   "execution_count": 2,
   "id": "fbc283ce-3fdb-44c5-af25-d9b221e5d2b9",
   "metadata": {},
   "outputs": [
    {
     "name": "stdout",
     "output_type": "stream",
     "text": [
      "sagemaker.config INFO - Not applying SDK defaults from location: /etc/xdg/sagemaker/config.yaml\n",
      "sagemaker.config INFO - Not applying SDK defaults from location: /home/sagemaker-user/.config/sagemaker/config.yaml\n"
     ]
    }
   ],
   "source": [
    "import sagemaker\n",
    "from sagemaker.huggingface import HuggingFaceModel, get_huggingface_llm_image_uri\n",
    "import time\n",
    "\n",
    "sagemaker_session = sagemaker.Session()\n",
    "region = sagemaker_session.boto_region_name\n",
    "role = sagemaker.get_execution_role()"
   ]
  },
  {
   "cell_type": "code",
   "execution_count": 3,
   "id": "9bae82a1-2f2e-497e-bdd8-9d1c84f53861",
   "metadata": {},
   "outputs": [],
   "source": [
    "image_uri = get_huggingface_llm_image_uri(\n",
    "  backend=\"huggingface\",\n",
    "  region=region\n",
    ")"
   ]
  },
  {
   "cell_type": "code",
   "execution_count": 4,
   "id": "2e7593f3-6b91-4724-a8e1-d6e58025edb2",
   "metadata": {},
   "outputs": [],
   "source": [
    "model_name = \"deepseek-14b-\" + time.strftime(\"%Y-%m-%d-%H-%M-%S\", time.gmtime())\n",
    "\n",
    "hub = {\n",
    "    'HF_MODEL_ID':'deepseek-ai/DeepSeek-R1-Distill-Qwen-14B',\n",
    "    'HF_TASK':'question-answering',\n",
    "    'SM_NUM_GPUS':'4'\n",
    "}\n",
    "\n",
    "model = HuggingFaceModel(\n",
    "    name=model_name,\n",
    "    env=hub,\n",
    "    role=role,\n",
    "    image_uri=image_uri\n",
    ")"
   ]
  },
  {
   "cell_type": "code",
   "execution_count": 5,
   "id": "4f97e6d4-c78a-4f2c-a7c8-56b72498e084",
   "metadata": {},
   "outputs": [
    {
     "name": "stdout",
     "output_type": "stream",
     "text": [
      "------------!"
     ]
    }
   ],
   "source": [
    "predictor = model.deploy(\n",
    "    initial_instance_count=1,\n",
    "    instance_type=\"ml.g5.12xlarge\",\n",
    "    endpoint_name=model_name\n",
    ")"
   ]
  },
  {
   "cell_type": "code",
   "execution_count": 6,
   "id": "c40ef950-8735-4cf3-aaab-d1c895f957de",
   "metadata": {},
   "outputs": [
    {
     "data": {
      "text/plain": [
       "[{'generated_text': 'Explain quantum computing in simple terms\\n\\n</think>\\n\\nQuantum computing is a type of computing that uses the principles of quantum mechanics to perform calculations. Unlike classical computers, which use bits (0s and 1s) to store and process information, quantum computers use quantum bits, or qubits.\\n\\n### Key Differences from Classical Computing:\\n1. **Superposition**: Qubits can exist in multiple states at once, thanks to a property called superposition. This allows quantum computers to process a vast number of possibilities simultaneously.\\n   \\n2. **Entanglement**: Qubits can be entangled, meaning the state of one qubit is directly related to the state of another, no matter the distance between them. This property can help in creating stronger correlations between bits, leading to more efficient computations.\\n\\n3. **Quantum Parallelism**: Quantum computers can process a massive amount of calculations at the same time, thanks to superposition and entanglement.\\n\\n### Potential Applications:\\n- **Cryptography**: Quantum computers could break certain types of encryption that are currently secure, but they could also create new, unbreakable encryption methods.\\n- **Optimization**: They could solve complex optimization problems much faster than classical computers, which has applications in fields like logistics, finance, and energy.\\n- **Simulation**: Quantum computers are particularly well-suited for simulating quantum systems, which could lead to breakthroughs in materials science, chemistry, and medicine.\\n\\n### Challenges:\\n- **Decoherence**: Qubits are very sensitive to their environment, and any interference can cause decoherence, which disrupts the computation.\\n- **Error Correction**: Quantum errors are more complex to correct than classical errors, and error correction is an active area of research.\\n- **Scalability**: Building a large-scale, practical quantum computer is still a significant technical challenge.\\n\\nIn summary, quantum computing has the potential to solve problems that are intractable for classical computers, but it also faces significant technical challenges.'}]"
      ]
     },
     "execution_count": 6,
     "metadata": {},
     "output_type": "execute_result"
    }
   ],
   "source": [
    "# Advanced generation parameters\n",
    "generation_params = {\n",
    "    \"do_sample\": True,\n",
    "    \"top_p\": 0.9,\n",
    "    \"temperature\": 0.7,\n",
    "    \"max_new_tokens\": 512\n",
    "}\n",
    "\n",
    "# Sample request\n",
    "predictor.predict({\n",
    "    \"inputs\": \"Explain quantum computing in simple terms\",\n",
    "    \"parameters\": generation_params\n",
    "})"
   ]
  },
  {
   "cell_type": "code",
   "execution_count": 7,
   "id": "19dc64b3-7896-4f2f-80c7-44400cb4c8c1",
   "metadata": {},
   "outputs": [
    {
     "data": {
      "text/plain": [
       "[{'generated_text': 'Explain quantum computing in simple terms.\\n\\n</think>\\n\\nQuantum computing is a type of computing that uses the principles of quantum mechanics to perform calculations. Unlike classical computers, which use bits (0s and 1s) to store and process information, quantum computers use quantum bits, or qubits.\\n\\nQubits are special because they can exist in a state called \"superposition,\" where they are both 0 and 1 at the same time. This allows quantum computers to perform many calculations simultaneously. Additionally, qubits can be \"entangled,\" meaning the state of one qubit is connected to the state of another, no matter how far apart they are. This entanglement allows quantum computers to solve certain problems much faster than classical computers.\\n\\nIn simple terms, quantum computing is like having a computer that can explore many possibilities at once, thanks to the unique properties of quantum mechanics. This could lead to breakthroughs in fields like cryptography, materials science, and drug discovery.'}]"
      ]
     },
     "execution_count": 7,
     "metadata": {},
     "output_type": "execute_result"
    }
   ],
   "source": [
    "[{'generated_text': 'Explain quantum computing in simple terms.\\n\\n</think>\\n\\nQuantum computing is a type of computing that uses the principles of quantum mechanics to perform calculations. Unlike classical computers, which use bits (0s and 1s) to store and process information, quantum computers use quantum bits, or qubits.\\n\\nQubits are special because they can exist in a state called \"superposition,\" where they are both 0 and 1 at the same time. This allows quantum computers to perform many calculations simultaneously. Additionally, qubits can be \"entangled,\" meaning the state of one qubit is connected to the state of another, no matter how far apart they are. This entanglement allows quantum computers to solve certain problems much faster than classical computers.\\n\\nIn simple terms, quantum computing is like having a computer that can explore many possibilities at once, thanks to the unique properties of quantum mechanics. This could lead to breakthroughs in fields like cryptography, materials science, and drug discovery.'}]"
   ]
  },
  {
   "cell_type": "code",
   "execution_count": 8,
   "id": "1dc9dfe8-95f6-4e91-a5c9-0208c75b62a4",
   "metadata": {},
   "outputs": [],
   "source": [
    "predictor.delete_model()\n",
    "predictor.delete_endpoint()"
   ]
  }
 ],
 "metadata": {
  "kernelspec": {
   "display_name": "Python 3 (ipykernel)",
   "language": "python",
   "name": "python3"
  },
  "language_info": {
   "codemirror_mode": {
    "name": "ipython",
    "version": 3
   },
   "file_extension": ".py",
   "mimetype": "text/x-python",
   "name": "python",
   "nbconvert_exporter": "python",
   "pygments_lexer": "ipython3",
   "version": "3.11.11"
  }
 },
 "nbformat": 4,
 "nbformat_minor": 5
}
